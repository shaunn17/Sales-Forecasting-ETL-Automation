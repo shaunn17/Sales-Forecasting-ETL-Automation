{
  "cells": [
    {
      "cell_type": "markdown",
      "metadata": {},
      "source": [
        "# 01. Data Cleaning and Preprocessing\n",
        "\n",
        "This notebook demonstrates the complete data cleaning and preprocessing pipeline for the UCI Online Retail dataset.\n",
        "\n",
        "## Objectives:\n",
        "- Load and explore the raw UCI Online Retail dataset\n",
        "- Clean data by removing duplicates, handling missing values, and outliers\n",
        "- Aggregate sales data by month and region\n",
        "- Engineer features for forecasting models\n",
        "- Save processed data for further analysis\n"
      ]
    },
    {
      "cell_type": "code",
      "execution_count": null,
      "metadata": {},
      "outputs": [],
      "source": [
        "# Import required libraries\n",
        "import pandas as pd\n",
        "import numpy as np\n",
        "import matplotlib.pyplot as plt\n",
        "import seaborn as sns\n",
        "import warnings\n",
        "from datetime import datetime, timedelta\n",
        "import os\n",
        "import sys\n",
        "\n",
        "# Add scripts directory to path\n",
        "sys.path.append('../scripts')\n",
        "from etl_pipeline import SalesETLPipeline\n",
        "\n",
        "# Set up plotting\n",
        "plt.style.use('seaborn-v0_8')\n",
        "plt.rcParams['figure.figsize'] = (12, 8)\n",
        "warnings.filterwarnings('ignore')\n",
        "\n",
        "print(\"Libraries imported successfully!\")\n"
      ]
    },
    {
      "cell_type": "markdown",
      "metadata": {},
      "source": []
    }
  ],
  "metadata": {
    "language_info": {
      "name": "python"
    }
  },
  "nbformat": 4,
  "nbformat_minor": 2
}
